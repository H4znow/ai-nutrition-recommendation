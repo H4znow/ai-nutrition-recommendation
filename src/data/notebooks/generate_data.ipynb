{
 "cells": [
  {
   "cell_type": "markdown",
   "metadata": {},
   "source": [
    "# Data generation"
   ]
  },
  {
   "cell_type": "markdown",
   "metadata": {},
   "source": [
    "After multiple failed requests to get access to the data used in the paper and no answer from the authors, I decided to generate the data myself. The data generated should have a clode structure to the one used in the paper, however less complex and accurate. However, I tried to keep a logic in the data generation process based on common sense, information from the paper and llm knowledge."
   ]
  },
  {
   "cell_type": "markdown",
   "metadata": {},
   "source": [
    "# Imports"
   ]
  },
  {
   "cell_type": "code",
   "execution_count": 1,
   "metadata": {},
   "outputs": [],
   "source": [
    "import numpy as np\n",
    "import pandas as pd"
   ]
  },
  {
   "cell_type": "markdown",
   "metadata": {},
   "source": [
    "# Generation"
   ]
  },
  {
   "cell_type": "code",
   "execution_count": 2,
   "metadata": {},
   "outputs": [],
   "source": [
    "np.random.seed(0) # To keep consistency"
   ]
  },
  {
   "cell_type": "code",
   "execution_count": 3,
   "metadata": {},
   "outputs": [],
   "source": [
    "num_users: int = 10000 # number of samples in the dataset"
   ]
  },
  {
   "cell_type": "code",
   "execution_count": 4,
   "metadata": {},
   "outputs": [
    {
     "data": {
      "text/plain": [
       "bool"
      ]
     },
     "execution_count": 4,
     "metadata": {},
     "output_type": "execute_result"
    }
   ],
   "source": [
    "type(np.random.rand() < 0.1)"
   ]
  },
  {
   "cell_type": "code",
   "execution_count": 5,
   "metadata": {},
   "outputs": [],
   "source": [
    "def generate_data(num_users: int) :\n",
    "    X_features: list = []    # user feature vectors\n",
    "    Y_meals: list = []       # ground-truth meal class sequences (length 6 for each user)\n",
    "    target_EIs: list = []    # target daily energy intakes for each user\n",
    "    min_macros: list = []    # minimum recommended macronutrient values for each user (based on guidelines)\n",
    "    max_macros: list = []    # maximum recommended macronutrient values for each user\n",
    "\n",
    "    for i in range(num_users):\n",
    "        # Random user profile\n",
    "        weight: float = round(np.random.uniform(50, 100), 2)   # kg\n",
    "        height: float = np.random.uniform(150, 200)  # cm\n",
    "        BMI: float = weight / ((height/100)**2)\n",
    "        age: int = np.random.randint(18, 60)\n",
    "        # Basal Metabolic Rate (BMR) using Mifflin-St Jeor formula (for a male user as an example)\n",
    "        BMR: float = 10*weight + 6.25*height - 5*age + 5\n",
    "        PAL: float = np.random.uniform(1.2, 2.0)     # Physical Activity Level (sedentary ~1.2 to very active ~2.0)\n",
    "        # Medical conditions (binary flags for presence of cardiovascular disease, type-2 diabetes, iron deficiency)\n",
    "        has_CVD: bool = np.random.rand() < 0.1      # 10% chance\n",
    "        has_T2D: bool = np.random.rand() < 0.1      # 10% chance\n",
    "        has_iron_def: bool = np.random.rand() < 0.1 # 10% chance\n",
    "        \n",
    "        # Compose feature vector\n",
    "        user_features: list = [weight, height, BMI, BMR, PAL, int(has_CVD), int(has_T2D), int(has_iron_def)]\n",
    "        X_features.append(user_features)\n",
    "        \n",
    "        # Determine target daily energy intake using factorial method (BMR * PAL) adjusted by factor D for BMI (based on nutritional guidelines)\n",
    "        D: float = 1.0\n",
    "        if BMI < 18.5:    # underweight: increase target EI to encourage weight gain\n",
    "            D = 1.1\n",
    "        elif BMI > 25:    # overweight: decrease target EI for weight loss\n",
    "            D = 0.9\n",
    "        target_EI = BMR * PAL * D\n",
    "        target_EIs.append(target_EI)\n",
    "        \n",
    "        # Recommended macronutrient intake ranges (based on nutritional guidelines)\n",
    "        # For simplicity, use fixed percentage ranges of total energy for each macro:\n",
    "        # Protein: 10-35%, Carbs: 45-65%, Fat: 20-35%, SFA: 0-10% of total energy.\n",
    "        min_prot, max_prot = 0.10, 0.35\n",
    "        min_carb, max_carb = 0.45, 0.65\n",
    "        min_fat, max_fat   = 0.20, 0.35\n",
    "        min_sfa, max_sfa   = 0.00, 0.10\n",
    "        # Convert these fractions to absolute amounts (grams) using energy densities (4 kcal/g for protein & carbs, 9 kcal/g for fat & SFA)\n",
    "        min_prot_g = min_prot * target_EI / 4.0;   max_prot_g = max_prot * target_EI / 4.0\n",
    "        min_carb_g = min_carb * target_EI / 4.0;   max_carb_g = max_carb * target_EI / 4.0\n",
    "        min_fat_g  = min_fat  * target_EI / 9.0;   max_fat_g  = max_fat  * target_EI / 9.0\n",
    "        min_sfa_g  = min_sfa  * target_EI / 9.0;   max_sfa_g  = max_sfa  * target_EI / 9.0\n",
    "        min_macros.append([min_prot_g, min_carb_g, min_fat_g, min_sfa_g])\n",
    "        max_macros.append([max_prot_g, max_carb_g, max_fat_g, max_sfa_g])\n",
    "        \n",
    "        # Generate a synthetic \"ground truth\" meal plan (sequence of 6 meal class labels) for the user.\n",
    "        # We bias the meal choices based on user's BMI category for realism:\n",
    "        # Underweight users get more high-calorie meals, overweight get more low-calorie meals.\n",
    "        meal_classes = []\n",
    "        if BMI < 18.5:\n",
    "            # Underweight: 80% chance to pick a high-calorie meal (class 0-4), 20% chance low-calorie (5-9)\n",
    "            for t in range(6):\n",
    "                if np.random.rand() < 0.8:\n",
    "                    meal_classes.append(np.random.randint(0, 5))   # high-calorie meal class\n",
    "                else:\n",
    "                    meal_classes.append(np.random.randint(5, 10))  # low-calorie meal class\n",
    "        elif BMI > 25:\n",
    "            # Overweight: 80% chance low-calorie meal, 20% high-calorie meal\n",
    "            for t in range(6):\n",
    "                if np.random.rand() < 0.8:\n",
    "                    meal_classes.append(np.random.randint(5, 10))  # low-calorie meal class\n",
    "                else:\n",
    "                    meal_classes.append(np.random.randint(0, 5))   # high-calorie meal class\n",
    "        else:\n",
    "            # Normal weight: no strong bias, random meals\n",
    "            for t in range(6):\n",
    "                meal_classes.append(np.random.randint(0, 10))\n",
    "        Y_meals.append(meal_classes)\n",
    "    return X_features, Y_meals, min_macros, max_macros, target_EIs"
   ]
  },
  {
   "cell_type": "code",
   "execution_count": 6,
   "metadata": {},
   "outputs": [],
   "source": [
    "X_features, Y_meals, min_macros, max_macros, target_EIs = generate_data(num_users=num_users)"
   ]
  },
  {
   "cell_type": "code",
   "execution_count": 7,
   "metadata": {},
   "outputs": [
    {
     "data": {
      "text/plain": [
       "(list, list, list, list, list)"
      ]
     },
     "execution_count": 7,
     "metadata": {},
     "output_type": "execute_result"
    }
   ],
   "source": [
    "type(X_features), type(Y_meals), type(min_macros), type(max_macros), type(target_EIs)"
   ]
  },
  {
   "cell_type": "code",
   "execution_count": 8,
   "metadata": {},
   "outputs": [],
   "source": [
    "X: np.array = np.array(X_features, dtype=float)\n",
    "Y: np.array = np.array(Y_meals, dtype=int)\n",
    "min_macros: np.array = np.array(min_macros, dtype=float)\n",
    "max_macros: np.array = np.array(max_macros, dtype=float)\n",
    "target_EIs: np.array = np.array(target_EIs, dtype=float)"
   ]
  },
  {
   "cell_type": "code",
   "execution_count": 9,
   "metadata": {},
   "outputs": [
    {
     "data": {
      "text/plain": [
       "(numpy.ndarray, numpy.ndarray, numpy.ndarray, numpy.ndarray, numpy.ndarray)"
      ]
     },
     "execution_count": 9,
     "metadata": {},
     "output_type": "execute_result"
    }
   ],
   "source": [
    "type(X), type(Y), type(min_macros), type(max_macros), type(target_EIs)"
   ]
  },
  {
   "cell_type": "markdown",
   "metadata": {},
   "source": [
    "# Data Exploration"
   ]
  },
  {
   "cell_type": "markdown",
   "metadata": {},
   "source": [
    "Let's start by exploring the data generated. We will see if we can improve it for further training."
   ]
  },
  {
   "cell_type": "code",
   "execution_count": 10,
   "metadata": {},
   "outputs": [
    {
     "data": {
      "text/plain": [
       "array([8.57600000e+01, 1.80138169e+02, 2.64285469e+01, 1.88346356e+03,\n",
       "       1.87780139e+00, 0.00000000e+00, 0.00000000e+00, 0.00000000e+00])"
      ]
     },
     "execution_count": 10,
     "metadata": {},
     "output_type": "execute_result"
    }
   ],
   "source": [
    "X[0]"
   ]
  },
  {
   "cell_type": "code",
   "execution_count": 11,
   "metadata": {},
   "outputs": [
    {
     "data": {
      "text/plain": [
       "((10000, 8), (10000, 6), (10000, 4), (10000, 4), (10000,))"
      ]
     },
     "execution_count": 11,
     "metadata": {},
     "output_type": "execute_result"
    }
   ],
   "source": [
    "X.shape, Y.shape, min_macros.shape, max_macros.shape, target_EIs.shape"
   ]
  },
  {
   "cell_type": "markdown",
   "metadata": {},
   "source": [
    "The shapes are correct. `X` has 8 features as in the paper, `Y` has 6 columns for the 6 meals in a day, `min_macros` and `max_macros` have 4 columns for the 4 macros selected, and `target_EIs` has 1 column for the target energy intake. "
   ]
  },
  {
   "cell_type": "code",
   "execution_count": 12,
   "metadata": {},
   "outputs": [
    {
     "data": {
      "text/html": [
       "<div>\n",
       "<style scoped>\n",
       "    .dataframe tbody tr th:only-of-type {\n",
       "        vertical-align: middle;\n",
       "    }\n",
       "\n",
       "    .dataframe tbody tr th {\n",
       "        vertical-align: top;\n",
       "    }\n",
       "\n",
       "    .dataframe thead th {\n",
       "        text-align: right;\n",
       "    }\n",
       "</style>\n",
       "<table border=\"1\" class=\"dataframe\">\n",
       "  <thead>\n",
       "    <tr style=\"text-align: right;\">\n",
       "      <th></th>\n",
       "      <th>weight</th>\n",
       "      <th>height</th>\n",
       "      <th>BMI</th>\n",
       "      <th>BMR</th>\n",
       "      <th>PAL</th>\n",
       "      <th>has_CVD</th>\n",
       "      <th>has_T2D</th>\n",
       "      <th>has_iron_def</th>\n",
       "    </tr>\n",
       "  </thead>\n",
       "  <tbody>\n",
       "    <tr>\n",
       "      <th>0</th>\n",
       "      <td>85.76</td>\n",
       "      <td>180.138169</td>\n",
       "      <td>26.428547</td>\n",
       "      <td>1883.463555</td>\n",
       "      <td>1.877801</td>\n",
       "      <td>0.0</td>\n",
       "      <td>0.0</td>\n",
       "      <td>0.0</td>\n",
       "    </tr>\n",
       "    <tr>\n",
       "      <th>1</th>\n",
       "      <td>98.93</td>\n",
       "      <td>189.957928</td>\n",
       "      <td>27.416573</td>\n",
       "      <td>1946.537051</td>\n",
       "      <td>1.824423</td>\n",
       "      <td>0.0</td>\n",
       "      <td>0.0</td>\n",
       "      <td>0.0</td>\n",
       "    </tr>\n",
       "  </tbody>\n",
       "</table>\n",
       "</div>"
      ],
      "text/plain": [
       "   weight      height        BMI          BMR       PAL  has_CVD  has_T2D  \\\n",
       "0   85.76  180.138169  26.428547  1883.463555  1.877801      0.0      0.0   \n",
       "1   98.93  189.957928  27.416573  1946.537051  1.824423      0.0      0.0   \n",
       "\n",
       "   has_iron_def  \n",
       "0           0.0  \n",
       "1           0.0  "
      ]
     },
     "execution_count": 12,
     "metadata": {},
     "output_type": "execute_result"
    }
   ],
   "source": [
    "user_features = [\"weight\",\"height\",\"BMI\",\"BMR\",\"PAL\",\"has_CVD\",\"has_T2D\",\"has_iron_def\"]\n",
    "df_features = pd.DataFrame(X, columns=user_features)\n",
    "df_features.head(2)"
   ]
  },
  {
   "cell_type": "markdown",
   "metadata": {},
   "source": [
    "Normalize the data for better training and avoid exploding gradients."
   ]
  },
  {
   "cell_type": "code",
   "execution_count": 13,
   "metadata": {},
   "outputs": [
    {
     "data": {
      "text/html": [
       "<div>\n",
       "<style scoped>\n",
       "    .dataframe tbody tr th:only-of-type {\n",
       "        vertical-align: middle;\n",
       "    }\n",
       "\n",
       "    .dataframe tbody tr th {\n",
       "        vertical-align: top;\n",
       "    }\n",
       "\n",
       "    .dataframe thead th {\n",
       "        text-align: right;\n",
       "    }\n",
       "</style>\n",
       "<table border=\"1\" class=\"dataframe\">\n",
       "  <thead>\n",
       "    <tr style=\"text-align: right;\">\n",
       "      <th></th>\n",
       "      <th>weight</th>\n",
       "      <th>height</th>\n",
       "      <th>BMI</th>\n",
       "      <th>BMR</th>\n",
       "      <th>PAL</th>\n",
       "      <th>has_CVD</th>\n",
       "      <th>has_T2D</th>\n",
       "      <th>has_iron_def</th>\n",
       "    </tr>\n",
       "  </thead>\n",
       "  <tbody>\n",
       "    <tr>\n",
       "      <th>0</th>\n",
       "      <td>0.737059</td>\n",
       "      <td>0.369419</td>\n",
       "      <td>0.211762</td>\n",
       "      <td>1.243814</td>\n",
       "      <td>1.208554</td>\n",
       "      <td>-0.329601</td>\n",
       "      <td>-0.334242</td>\n",
       "      <td>-0.348845</td>\n",
       "    </tr>\n",
       "    <tr>\n",
       "      <th>1</th>\n",
       "      <td>1.648117</td>\n",
       "      <td>1.050903</td>\n",
       "      <td>0.366467</td>\n",
       "      <td>1.588776</td>\n",
       "      <td>0.977632</td>\n",
       "      <td>-0.329601</td>\n",
       "      <td>-0.334242</td>\n",
       "      <td>-0.348845</td>\n",
       "    </tr>\n",
       "  </tbody>\n",
       "</table>\n",
       "</div>"
      ],
      "text/plain": [
       "     weight    height       BMI       BMR       PAL   has_CVD   has_T2D  \\\n",
       "0  0.737059  0.369419  0.211762  1.243814  1.208554 -0.329601 -0.334242   \n",
       "1  1.648117  1.050903  0.366467  1.588776  0.977632 -0.329601 -0.334242   \n",
       "\n",
       "   has_iron_def  \n",
       "0     -0.348845  \n",
       "1     -0.348845  "
      ]
     },
     "execution_count": 13,
     "metadata": {},
     "output_type": "execute_result"
    }
   ],
   "source": [
    "df_features_normalized = (df_features - df_features.mean())/df_features.std() # Normalize data\n",
    "df_features_normalized.head(2)"
   ]
  },
  {
   "cell_type": "markdown",
   "metadata": {},
   "source": [
    "Convert boolean columns to boolean type."
   ]
  },
  {
   "cell_type": "code",
   "execution_count": 14,
   "metadata": {},
   "outputs": [
    {
     "data": {
      "text/html": [
       "<div>\n",
       "<style scoped>\n",
       "    .dataframe tbody tr th:only-of-type {\n",
       "        vertical-align: middle;\n",
       "    }\n",
       "\n",
       "    .dataframe tbody tr th {\n",
       "        vertical-align: top;\n",
       "    }\n",
       "\n",
       "    .dataframe thead th {\n",
       "        text-align: right;\n",
       "    }\n",
       "</style>\n",
       "<table border=\"1\" class=\"dataframe\">\n",
       "  <thead>\n",
       "    <tr style=\"text-align: right;\">\n",
       "      <th></th>\n",
       "      <th>weight</th>\n",
       "      <th>height</th>\n",
       "      <th>BMI</th>\n",
       "      <th>BMR</th>\n",
       "      <th>PAL</th>\n",
       "      <th>has_CVD</th>\n",
       "      <th>has_T2D</th>\n",
       "      <th>has_iron_def</th>\n",
       "    </tr>\n",
       "  </thead>\n",
       "  <tbody>\n",
       "    <tr>\n",
       "      <th>0</th>\n",
       "      <td>85.76</td>\n",
       "      <td>180.138169</td>\n",
       "      <td>26.428547</td>\n",
       "      <td>1883.463555</td>\n",
       "      <td>1.877801</td>\n",
       "      <td>False</td>\n",
       "      <td>False</td>\n",
       "      <td>False</td>\n",
       "    </tr>\n",
       "    <tr>\n",
       "      <th>1</th>\n",
       "      <td>98.93</td>\n",
       "      <td>189.957928</td>\n",
       "      <td>27.416573</td>\n",
       "      <td>1946.537051</td>\n",
       "      <td>1.824423</td>\n",
       "      <td>False</td>\n",
       "      <td>False</td>\n",
       "      <td>False</td>\n",
       "    </tr>\n",
       "  </tbody>\n",
       "</table>\n",
       "</div>"
      ],
      "text/plain": [
       "   weight      height        BMI          BMR       PAL  has_CVD  has_T2D  \\\n",
       "0   85.76  180.138169  26.428547  1883.463555  1.877801    False    False   \n",
       "1   98.93  189.957928  27.416573  1946.537051  1.824423    False    False   \n",
       "\n",
       "   has_iron_def  \n",
       "0         False  \n",
       "1         False  "
      ]
     },
     "execution_count": 14,
     "metadata": {},
     "output_type": "execute_result"
    }
   ],
   "source": [
    "df_features[[col for col in df_features.columns if col.startswith(\"has\")]] = df_features[[col for col in df_features.columns if col.startswith(\"has\")]].astype(bool)\n",
    "df_features.head(2)"
   ]
  },
  {
   "cell_type": "code",
   "execution_count": 15,
   "metadata": {},
   "outputs": [
    {
     "data": {
      "text/html": [
       "<div>\n",
       "<style scoped>\n",
       "    .dataframe tbody tr th:only-of-type {\n",
       "        vertical-align: middle;\n",
       "    }\n",
       "\n",
       "    .dataframe tbody tr th {\n",
       "        vertical-align: top;\n",
       "    }\n",
       "\n",
       "    .dataframe thead th {\n",
       "        text-align: right;\n",
       "    }\n",
       "</style>\n",
       "<table border=\"1\" class=\"dataframe\">\n",
       "  <thead>\n",
       "    <tr style=\"text-align: right;\">\n",
       "      <th></th>\n",
       "      <th>meal_1</th>\n",
       "      <th>meal_2</th>\n",
       "      <th>meal_3</th>\n",
       "      <th>meal_4</th>\n",
       "      <th>meal_5</th>\n",
       "      <th>meal_6</th>\n",
       "    </tr>\n",
       "  </thead>\n",
       "  <tbody>\n",
       "    <tr>\n",
       "      <th>0</th>\n",
       "      <td>9</td>\n",
       "      <td>5</td>\n",
       "      <td>6</td>\n",
       "      <td>6</td>\n",
       "      <td>5</td>\n",
       "      <td>0</td>\n",
       "    </tr>\n",
       "    <tr>\n",
       "      <th>1</th>\n",
       "      <td>2</td>\n",
       "      <td>8</td>\n",
       "      <td>7</td>\n",
       "      <td>7</td>\n",
       "      <td>9</td>\n",
       "      <td>5</td>\n",
       "    </tr>\n",
       "  </tbody>\n",
       "</table>\n",
       "</div>"
      ],
      "text/plain": [
       "   meal_1  meal_2  meal_3  meal_4  meal_5  meal_6\n",
       "0       9       5       6       6       5       0\n",
       "1       2       8       7       7       9       5"
      ]
     },
     "execution_count": 15,
     "metadata": {},
     "output_type": "execute_result"
    }
   ],
   "source": [
    "meal_columns = [f\"meal_{i+1}\" for i in range(Y.shape[1])]\n",
    "df_meals = pd.DataFrame(Y, columns=meal_columns)\n",
    "df_meals.head(2)"
   ]
  },
  {
   "cell_type": "code",
   "execution_count": 16,
   "metadata": {},
   "outputs": [
    {
     "data": {
      "text/plain": [
       "{0, 1, 2, 3, 4, 5, 6, 7, 8, 9}"
      ]
     },
     "execution_count": 16,
     "metadata": {},
     "output_type": "execute_result"
    }
   ],
   "source": [
    "unique_values = [df_meals[i].unique() for i in df_meals.columns]\n",
    "my_set = set(int(value) for values in unique_values for value in values)\n",
    "my_set"
   ]
  },
  {
   "cell_type": "code",
   "execution_count": 17,
   "metadata": {},
   "outputs": [
    {
     "data": {
      "text/html": [
       "<div>\n",
       "<style scoped>\n",
       "    .dataframe tbody tr th:only-of-type {\n",
       "        vertical-align: middle;\n",
       "    }\n",
       "\n",
       "    .dataframe tbody tr th {\n",
       "        vertical-align: top;\n",
       "    }\n",
       "\n",
       "    .dataframe thead th {\n",
       "        text-align: right;\n",
       "    }\n",
       "</style>\n",
       "<table border=\"1\" class=\"dataframe\">\n",
       "  <thead>\n",
       "    <tr style=\"text-align: right;\">\n",
       "      <th></th>\n",
       "      <th>min_prot</th>\n",
       "      <th>min_carb</th>\n",
       "      <th>min_fat</th>\n",
       "      <th>min_sfa</th>\n",
       "    </tr>\n",
       "  </thead>\n",
       "  <tbody>\n",
       "    <tr>\n",
       "      <th>0</th>\n",
       "      <td>79.577336</td>\n",
       "      <td>358.098011</td>\n",
       "      <td>70.735410</td>\n",
       "      <td>0.0</td>\n",
       "    </tr>\n",
       "    <tr>\n",
       "      <th>1</th>\n",
       "      <td>79.904422</td>\n",
       "      <td>359.569898</td>\n",
       "      <td>71.026153</td>\n",
       "      <td>0.0</td>\n",
       "    </tr>\n",
       "  </tbody>\n",
       "</table>\n",
       "</div>"
      ],
      "text/plain": [
       "    min_prot    min_carb    min_fat  min_sfa\n",
       "0  79.577336  358.098011  70.735410      0.0\n",
       "1  79.904422  359.569898  71.026153      0.0"
      ]
     },
     "execution_count": 17,
     "metadata": {},
     "output_type": "execute_result"
    }
   ],
   "source": [
    "min_macro_columns = [\"min_prot\", \"min_carb\", \"min_fat\", \"min_sfa\"]\n",
    "df_min_macros = pd.DataFrame(min_macros, columns=min_macro_columns)\n",
    "df_min_macros.head(2)"
   ]
  },
  {
   "cell_type": "markdown",
   "metadata": {},
   "source": [
    "Before a standardization, we need to check if `min_sfa` values. If they are all zeros, we can drop the column during standardization."
   ]
  },
  {
   "cell_type": "code",
   "execution_count": 18,
   "metadata": {},
   "outputs": [
    {
     "data": {
      "text/plain": [
       "array([0.])"
      ]
     },
     "execution_count": 18,
     "metadata": {},
     "output_type": "execute_result"
    }
   ],
   "source": [
    "df_min_macros[\"min_sfa\"].unique()"
   ]
  },
  {
   "cell_type": "code",
   "execution_count": 19,
   "metadata": {},
   "outputs": [
    {
     "data": {
      "text/html": [
       "<div>\n",
       "<style scoped>\n",
       "    .dataframe tbody tr th:only-of-type {\n",
       "        vertical-align: middle;\n",
       "    }\n",
       "\n",
       "    .dataframe tbody tr th {\n",
       "        vertical-align: top;\n",
       "    }\n",
       "\n",
       "    .dataframe thead th {\n",
       "        text-align: right;\n",
       "    }\n",
       "</style>\n",
       "<table border=\"1\" class=\"dataframe\">\n",
       "  <thead>\n",
       "    <tr style=\"text-align: right;\">\n",
       "      <th></th>\n",
       "      <th>min_prot</th>\n",
       "      <th>min_carb</th>\n",
       "      <th>min_fat</th>\n",
       "      <th>min_sfa</th>\n",
       "    </tr>\n",
       "  </thead>\n",
       "  <tbody>\n",
       "    <tr>\n",
       "      <th>0</th>\n",
       "      <td>1.320618</td>\n",
       "      <td>1.320618</td>\n",
       "      <td>1.320618</td>\n",
       "      <td>0.0</td>\n",
       "    </tr>\n",
       "    <tr>\n",
       "      <th>1</th>\n",
       "      <td>1.348376</td>\n",
       "      <td>1.348376</td>\n",
       "      <td>1.348376</td>\n",
       "      <td>0.0</td>\n",
       "    </tr>\n",
       "  </tbody>\n",
       "</table>\n",
       "</div>"
      ],
      "text/plain": [
       "   min_prot  min_carb   min_fat  min_sfa\n",
       "0  1.320618  1.320618  1.320618      0.0\n",
       "1  1.348376  1.348376  1.348376      0.0"
      ]
     },
     "execution_count": 19,
     "metadata": {},
     "output_type": "execute_result"
    }
   ],
   "source": [
    "df_min_macros_temp = df_min_macros[[col for col in df_min_macros.columns if col != \"min_sfa\"]]\n",
    "df_min_macros_temp = (df_min_macros_temp - df_min_macros_temp.mean())/ df_min_macros_temp.std()\n",
    "\n",
    "df_min_macros_normalized = pd.concat((df_min_macros_temp, df_min_macros[\"min_sfa\"]), axis=1)\n",
    "df_min_macros_normalized.head(2)"
   ]
  },
  {
   "cell_type": "code",
   "execution_count": 20,
   "metadata": {},
   "outputs": [
    {
     "data": {
      "text/html": [
       "<div>\n",
       "<style scoped>\n",
       "    .dataframe tbody tr th:only-of-type {\n",
       "        vertical-align: middle;\n",
       "    }\n",
       "\n",
       "    .dataframe tbody tr th {\n",
       "        vertical-align: top;\n",
       "    }\n",
       "\n",
       "    .dataframe thead th {\n",
       "        text-align: right;\n",
       "    }\n",
       "</style>\n",
       "<table border=\"1\" class=\"dataframe\">\n",
       "  <thead>\n",
       "    <tr style=\"text-align: right;\">\n",
       "      <th></th>\n",
       "      <th>max_prot</th>\n",
       "      <th>max_carb</th>\n",
       "      <th>max_fat</th>\n",
       "      <th>max_sfa</th>\n",
       "    </tr>\n",
       "  </thead>\n",
       "  <tbody>\n",
       "    <tr>\n",
       "      <th>0</th>\n",
       "      <td>278.520676</td>\n",
       "      <td>517.252683</td>\n",
       "      <td>123.786967</td>\n",
       "      <td>35.367705</td>\n",
       "    </tr>\n",
       "    <tr>\n",
       "      <th>1</th>\n",
       "      <td>279.665476</td>\n",
       "      <td>519.378741</td>\n",
       "      <td>124.295767</td>\n",
       "      <td>35.513076</td>\n",
       "    </tr>\n",
       "  </tbody>\n",
       "</table>\n",
       "</div>"
      ],
      "text/plain": [
       "     max_prot    max_carb     max_fat    max_sfa\n",
       "0  278.520676  517.252683  123.786967  35.367705\n",
       "1  279.665476  519.378741  124.295767  35.513076"
      ]
     },
     "execution_count": 20,
     "metadata": {},
     "output_type": "execute_result"
    }
   ],
   "source": [
    "max_macro_columns = [\"max_prot\", \"max_carb\", \"max_fat\", \"max_sfa\"]\n",
    "df_max_macros = pd.DataFrame(max_macros, columns=max_macro_columns)\n",
    "df_max_macros.head(2)"
   ]
  },
  {
   "cell_type": "code",
   "execution_count": 21,
   "metadata": {},
   "outputs": [
    {
     "data": {
      "text/html": [
       "<div>\n",
       "<style scoped>\n",
       "    .dataframe tbody tr th:only-of-type {\n",
       "        vertical-align: middle;\n",
       "    }\n",
       "\n",
       "    .dataframe tbody tr th {\n",
       "        vertical-align: top;\n",
       "    }\n",
       "\n",
       "    .dataframe thead th {\n",
       "        text-align: right;\n",
       "    }\n",
       "</style>\n",
       "<table border=\"1\" class=\"dataframe\">\n",
       "  <thead>\n",
       "    <tr style=\"text-align: right;\">\n",
       "      <th></th>\n",
       "      <th>max_prot</th>\n",
       "      <th>max_carb</th>\n",
       "      <th>max_fat</th>\n",
       "      <th>max_sfa</th>\n",
       "    </tr>\n",
       "  </thead>\n",
       "  <tbody>\n",
       "    <tr>\n",
       "      <th>0</th>\n",
       "      <td>1.320618</td>\n",
       "      <td>1.320618</td>\n",
       "      <td>1.320618</td>\n",
       "      <td>1.320618</td>\n",
       "    </tr>\n",
       "    <tr>\n",
       "      <th>1</th>\n",
       "      <td>1.348376</td>\n",
       "      <td>1.348376</td>\n",
       "      <td>1.348376</td>\n",
       "      <td>1.348376</td>\n",
       "    </tr>\n",
       "  </tbody>\n",
       "</table>\n",
       "</div>"
      ],
      "text/plain": [
       "   max_prot  max_carb   max_fat   max_sfa\n",
       "0  1.320618  1.320618  1.320618  1.320618\n",
       "1  1.348376  1.348376  1.348376  1.348376"
      ]
     },
     "execution_count": 21,
     "metadata": {},
     "output_type": "execute_result"
    }
   ],
   "source": [
    "df_max_macros_normalized = (df_max_macros - df_max_macros.mean())/df_max_macros.std()\n",
    "df_max_macros_normalized.head(2)"
   ]
  },
  {
   "cell_type": "code",
   "execution_count": 22,
   "metadata": {},
   "outputs": [
    {
     "data": {
      "text/html": [
       "<div>\n",
       "<style scoped>\n",
       "    .dataframe tbody tr th:only-of-type {\n",
       "        vertical-align: middle;\n",
       "    }\n",
       "\n",
       "    .dataframe tbody tr th {\n",
       "        vertical-align: top;\n",
       "    }\n",
       "\n",
       "    .dataframe thead th {\n",
       "        text-align: right;\n",
       "    }\n",
       "</style>\n",
       "<table border=\"1\" class=\"dataframe\">\n",
       "  <thead>\n",
       "    <tr style=\"text-align: right;\">\n",
       "      <th></th>\n",
       "      <th>target_EI</th>\n",
       "    </tr>\n",
       "  </thead>\n",
       "  <tbody>\n",
       "    <tr>\n",
       "      <th>0</th>\n",
       "      <td>3183.093435</td>\n",
       "    </tr>\n",
       "    <tr>\n",
       "      <th>1</th>\n",
       "      <td>3196.176868</td>\n",
       "    </tr>\n",
       "  </tbody>\n",
       "</table>\n",
       "</div>"
      ],
      "text/plain": [
       "     target_EI\n",
       "0  3183.093435\n",
       "1  3196.176868"
      ]
     },
     "execution_count": 22,
     "metadata": {},
     "output_type": "execute_result"
    }
   ],
   "source": [
    "df_target_EIs = pd.DataFrame(target_EIs, columns=[\"target_EI\"])\n",
    "df_target_EIs.head(2)"
   ]
  },
  {
   "cell_type": "code",
   "execution_count": 23,
   "metadata": {},
   "outputs": [
    {
     "data": {
      "text/html": [
       "<div>\n",
       "<style scoped>\n",
       "    .dataframe tbody tr th:only-of-type {\n",
       "        vertical-align: middle;\n",
       "    }\n",
       "\n",
       "    .dataframe tbody tr th {\n",
       "        vertical-align: top;\n",
       "    }\n",
       "\n",
       "    .dataframe thead th {\n",
       "        text-align: right;\n",
       "    }\n",
       "</style>\n",
       "<table border=\"1\" class=\"dataframe\">\n",
       "  <thead>\n",
       "    <tr style=\"text-align: right;\">\n",
       "      <th></th>\n",
       "      <th>target_EI</th>\n",
       "    </tr>\n",
       "  </thead>\n",
       "  <tbody>\n",
       "    <tr>\n",
       "      <th>0</th>\n",
       "      <td>1.320618</td>\n",
       "    </tr>\n",
       "    <tr>\n",
       "      <th>1</th>\n",
       "      <td>1.348376</td>\n",
       "    </tr>\n",
       "  </tbody>\n",
       "</table>\n",
       "</div>"
      ],
      "text/plain": [
       "   target_EI\n",
       "0   1.320618\n",
       "1   1.348376"
      ]
     },
     "execution_count": 23,
     "metadata": {},
     "output_type": "execute_result"
    }
   ],
   "source": [
    "df_target_EIs_normalized = (df_target_EIs - df_target_EIs.mean())/ df_target_EIs.std()\n",
    "df_target_EIs_normalized.head(2)"
   ]
  },
  {
   "cell_type": "code",
   "execution_count": 24,
   "metadata": {},
   "outputs": [
    {
     "data": {
      "text/html": [
       "<div>\n",
       "<style scoped>\n",
       "    .dataframe tbody tr th:only-of-type {\n",
       "        vertical-align: middle;\n",
       "    }\n",
       "\n",
       "    .dataframe tbody tr th {\n",
       "        vertical-align: top;\n",
       "    }\n",
       "\n",
       "    .dataframe thead th {\n",
       "        text-align: right;\n",
       "    }\n",
       "</style>\n",
       "<table border=\"1\" class=\"dataframe\">\n",
       "  <thead>\n",
       "    <tr style=\"text-align: right;\">\n",
       "      <th></th>\n",
       "      <th>weight</th>\n",
       "      <th>height</th>\n",
       "      <th>BMI</th>\n",
       "      <th>BMR</th>\n",
       "      <th>PAL</th>\n",
       "      <th>has_CVD</th>\n",
       "      <th>has_T2D</th>\n",
       "      <th>has_iron_def</th>\n",
       "      <th>meal_1</th>\n",
       "      <th>meal_2</th>\n",
       "      <th>...</th>\n",
       "      <th>meal_6</th>\n",
       "      <th>min_prot</th>\n",
       "      <th>min_carb</th>\n",
       "      <th>min_fat</th>\n",
       "      <th>min_sfa</th>\n",
       "      <th>max_prot</th>\n",
       "      <th>max_carb</th>\n",
       "      <th>max_fat</th>\n",
       "      <th>max_sfa</th>\n",
       "      <th>target_EI</th>\n",
       "    </tr>\n",
       "  </thead>\n",
       "  <tbody>\n",
       "    <tr>\n",
       "      <th>0</th>\n",
       "      <td>0.737059</td>\n",
       "      <td>0.369419</td>\n",
       "      <td>0.211762</td>\n",
       "      <td>1.243814</td>\n",
       "      <td>1.208554</td>\n",
       "      <td>-0.329601</td>\n",
       "      <td>-0.334242</td>\n",
       "      <td>-0.348845</td>\n",
       "      <td>9</td>\n",
       "      <td>5</td>\n",
       "      <td>...</td>\n",
       "      <td>0</td>\n",
       "      <td>1.320618</td>\n",
       "      <td>1.320618</td>\n",
       "      <td>1.320618</td>\n",
       "      <td>0.0</td>\n",
       "      <td>1.320618</td>\n",
       "      <td>1.320618</td>\n",
       "      <td>1.320618</td>\n",
       "      <td>1.320618</td>\n",
       "      <td>1.320618</td>\n",
       "    </tr>\n",
       "    <tr>\n",
       "      <th>1</th>\n",
       "      <td>1.648117</td>\n",
       "      <td>1.050903</td>\n",
       "      <td>0.366467</td>\n",
       "      <td>1.588776</td>\n",
       "      <td>0.977632</td>\n",
       "      <td>-0.329601</td>\n",
       "      <td>-0.334242</td>\n",
       "      <td>-0.348845</td>\n",
       "      <td>2</td>\n",
       "      <td>8</td>\n",
       "      <td>...</td>\n",
       "      <td>5</td>\n",
       "      <td>1.348376</td>\n",
       "      <td>1.348376</td>\n",
       "      <td>1.348376</td>\n",
       "      <td>0.0</td>\n",
       "      <td>1.348376</td>\n",
       "      <td>1.348376</td>\n",
       "      <td>1.348376</td>\n",
       "      <td>1.348376</td>\n",
       "      <td>1.348376</td>\n",
       "    </tr>\n",
       "    <tr>\n",
       "      <th>2</th>\n",
       "      <td>0.397401</td>\n",
       "      <td>1.552624</td>\n",
       "      <td>-0.670620</td>\n",
       "      <td>0.518913</td>\n",
       "      <td>-0.166482</td>\n",
       "      <td>-0.329601</td>\n",
       "      <td>-0.334242</td>\n",
       "      <td>2.866316</td>\n",
       "      <td>9</td>\n",
       "      <td>3</td>\n",
       "      <td>...</td>\n",
       "      <td>0</td>\n",
       "      <td>0.362253</td>\n",
       "      <td>0.362253</td>\n",
       "      <td>0.362253</td>\n",
       "      <td>0.0</td>\n",
       "      <td>0.362253</td>\n",
       "      <td>0.362253</td>\n",
       "      <td>0.362253</td>\n",
       "      <td>0.362253</td>\n",
       "      <td>0.362253</td>\n",
       "    </tr>\n",
       "    <tr>\n",
       "      <th>3</th>\n",
       "      <td>-0.645786</td>\n",
       "      <td>-0.460085</td>\n",
       "      <td>-0.285705</td>\n",
       "      <td>-0.722933</td>\n",
       "      <td>0.471452</td>\n",
       "      <td>-0.329601</td>\n",
       "      <td>-0.334242</td>\n",
       "      <td>-0.348845</td>\n",
       "      <td>4</td>\n",
       "      <td>4</td>\n",
       "      <td>...</td>\n",
       "      <td>7</td>\n",
       "      <td>0.087511</td>\n",
       "      <td>0.087511</td>\n",
       "      <td>0.087511</td>\n",
       "      <td>0.0</td>\n",
       "      <td>0.087511</td>\n",
       "      <td>0.087511</td>\n",
       "      <td>0.087511</td>\n",
       "      <td>0.087511</td>\n",
       "      <td>0.087511</td>\n",
       "    </tr>\n",
       "    <tr>\n",
       "      <th>4</th>\n",
       "      <td>-0.567616</td>\n",
       "      <td>0.619218</td>\n",
       "      <td>-0.823533</td>\n",
       "      <td>0.280668</td>\n",
       "      <td>-1.043371</td>\n",
       "      <td>-0.329601</td>\n",
       "      <td>-0.334242</td>\n",
       "      <td>2.866316</td>\n",
       "      <td>2</td>\n",
       "      <td>4</td>\n",
       "      <td>...</td>\n",
       "      <td>2</td>\n",
       "      <td>-0.516128</td>\n",
       "      <td>-0.516128</td>\n",
       "      <td>-0.516128</td>\n",
       "      <td>0.0</td>\n",
       "      <td>-0.516128</td>\n",
       "      <td>-0.516128</td>\n",
       "      <td>-0.516128</td>\n",
       "      <td>-0.516128</td>\n",
       "      <td>-0.516128</td>\n",
       "    </tr>\n",
       "  </tbody>\n",
       "</table>\n",
       "<p>5 rows × 23 columns</p>\n",
       "</div>"
      ],
      "text/plain": [
       "     weight    height       BMI       BMR       PAL   has_CVD   has_T2D  \\\n",
       "0  0.737059  0.369419  0.211762  1.243814  1.208554 -0.329601 -0.334242   \n",
       "1  1.648117  1.050903  0.366467  1.588776  0.977632 -0.329601 -0.334242   \n",
       "2  0.397401  1.552624 -0.670620  0.518913 -0.166482 -0.329601 -0.334242   \n",
       "3 -0.645786 -0.460085 -0.285705 -0.722933  0.471452 -0.329601 -0.334242   \n",
       "4 -0.567616  0.619218 -0.823533  0.280668 -1.043371 -0.329601 -0.334242   \n",
       "\n",
       "   has_iron_def  meal_1  meal_2  ...  meal_6  min_prot  min_carb   min_fat  \\\n",
       "0     -0.348845       9       5  ...       0  1.320618  1.320618  1.320618   \n",
       "1     -0.348845       2       8  ...       5  1.348376  1.348376  1.348376   \n",
       "2      2.866316       9       3  ...       0  0.362253  0.362253  0.362253   \n",
       "3     -0.348845       4       4  ...       7  0.087511  0.087511  0.087511   \n",
       "4      2.866316       2       4  ...       2 -0.516128 -0.516128 -0.516128   \n",
       "\n",
       "   min_sfa  max_prot  max_carb   max_fat   max_sfa  target_EI  \n",
       "0      0.0  1.320618  1.320618  1.320618  1.320618   1.320618  \n",
       "1      0.0  1.348376  1.348376  1.348376  1.348376   1.348376  \n",
       "2      0.0  0.362253  0.362253  0.362253  0.362253   0.362253  \n",
       "3      0.0  0.087511  0.087511  0.087511  0.087511   0.087511  \n",
       "4      0.0 -0.516128 -0.516128 -0.516128 -0.516128  -0.516128  \n",
       "\n",
       "[5 rows x 23 columns]"
      ]
     },
     "execution_count": 24,
     "metadata": {},
     "output_type": "execute_result"
    }
   ],
   "source": [
    "df_full = pd.concat([df_features_normalized, df_meals, df_min_macros_normalized, df_max_macros_normalized, df_target_EIs_normalized], axis=1)\n",
    "df_full.head()"
   ]
  },
  {
   "cell_type": "code",
   "execution_count": 25,
   "metadata": {},
   "outputs": [
    {
     "name": "stdout",
     "output_type": "stream",
     "text": [
      "<class 'pandas.core.frame.DataFrame'>\n",
      "RangeIndex: 10000 entries, 0 to 9999\n",
      "Data columns (total 23 columns):\n",
      " #   Column        Non-Null Count  Dtype  \n",
      "---  ------        --------------  -----  \n",
      " 0   weight        10000 non-null  float64\n",
      " 1   height        10000 non-null  float64\n",
      " 2   BMI           10000 non-null  float64\n",
      " 3   BMR           10000 non-null  float64\n",
      " 4   PAL           10000 non-null  float64\n",
      " 5   has_CVD       10000 non-null  float64\n",
      " 6   has_T2D       10000 non-null  float64\n",
      " 7   has_iron_def  10000 non-null  float64\n",
      " 8   meal_1        10000 non-null  int64  \n",
      " 9   meal_2        10000 non-null  int64  \n",
      " 10  meal_3        10000 non-null  int64  \n",
      " 11  meal_4        10000 non-null  int64  \n",
      " 12  meal_5        10000 non-null  int64  \n",
      " 13  meal_6        10000 non-null  int64  \n",
      " 14  min_prot      10000 non-null  float64\n",
      " 15  min_carb      10000 non-null  float64\n",
      " 16  min_fat       10000 non-null  float64\n",
      " 17  min_sfa       10000 non-null  float64\n",
      " 18  max_prot      10000 non-null  float64\n",
      " 19  max_carb      10000 non-null  float64\n",
      " 20  max_fat       10000 non-null  float64\n",
      " 21  max_sfa       10000 non-null  float64\n",
      " 22  target_EI     10000 non-null  float64\n",
      "dtypes: float64(17), int64(6)\n",
      "memory usage: 1.8 MB\n"
     ]
    }
   ],
   "source": [
    "df_full.info()"
   ]
  },
  {
   "cell_type": "code",
   "execution_count": 26,
   "metadata": {},
   "outputs": [
    {
     "data": {
      "text/html": [
       "<div>\n",
       "<style scoped>\n",
       "    .dataframe tbody tr th:only-of-type {\n",
       "        vertical-align: middle;\n",
       "    }\n",
       "\n",
       "    .dataframe tbody tr th {\n",
       "        vertical-align: top;\n",
       "    }\n",
       "\n",
       "    .dataframe thead th {\n",
       "        text-align: right;\n",
       "    }\n",
       "</style>\n",
       "<table border=\"1\" class=\"dataframe\">\n",
       "  <thead>\n",
       "    <tr style=\"text-align: right;\">\n",
       "      <th></th>\n",
       "      <th>weight</th>\n",
       "      <th>height</th>\n",
       "      <th>BMI</th>\n",
       "      <th>BMR</th>\n",
       "      <th>PAL</th>\n",
       "      <th>has_CVD</th>\n",
       "      <th>has_T2D</th>\n",
       "      <th>has_iron_def</th>\n",
       "      <th>meal_1</th>\n",
       "      <th>meal_2</th>\n",
       "      <th>...</th>\n",
       "      <th>meal_6</th>\n",
       "      <th>min_prot</th>\n",
       "      <th>min_carb</th>\n",
       "      <th>min_fat</th>\n",
       "      <th>min_sfa</th>\n",
       "      <th>max_prot</th>\n",
       "      <th>max_carb</th>\n",
       "      <th>max_fat</th>\n",
       "      <th>max_sfa</th>\n",
       "      <th>target_EI</th>\n",
       "    </tr>\n",
       "  </thead>\n",
       "  <tbody>\n",
       "    <tr>\n",
       "      <th>count</th>\n",
       "      <td>1.000000e+04</td>\n",
       "      <td>1.000000e+04</td>\n",
       "      <td>1.000000e+04</td>\n",
       "      <td>1.000000e+04</td>\n",
       "      <td>1.000000e+04</td>\n",
       "      <td>1.000000e+04</td>\n",
       "      <td>1.000000e+04</td>\n",
       "      <td>1.000000e+04</td>\n",
       "      <td>10000.000000</td>\n",
       "      <td>10000.00000</td>\n",
       "      <td>...</td>\n",
       "      <td>10000.000000</td>\n",
       "      <td>1.000000e+04</td>\n",
       "      <td>1.000000e+04</td>\n",
       "      <td>1.000000e+04</td>\n",
       "      <td>10000.0</td>\n",
       "      <td>1.000000e+04</td>\n",
       "      <td>1.000000e+04</td>\n",
       "      <td>1.000000e+04</td>\n",
       "      <td>1.000000e+04</td>\n",
       "      <td>1.000000e+04</td>\n",
       "    </tr>\n",
       "    <tr>\n",
       "      <th>mean</th>\n",
       "      <td>1.730101e-14</td>\n",
       "      <td>2.250218e-14</td>\n",
       "      <td>1.568310e-14</td>\n",
       "      <td>-1.058424e-14</td>\n",
       "      <td>-3.748291e-15</td>\n",
       "      <td>-2.842171e-17</td>\n",
       "      <td>-3.197442e-17</td>\n",
       "      <td>4.654055e-17</td>\n",
       "      <td>4.964800</td>\n",
       "      <td>4.94530</td>\n",
       "      <td>...</td>\n",
       "      <td>4.972500</td>\n",
       "      <td>-4.567369e-15</td>\n",
       "      <td>-2.813749e-16</td>\n",
       "      <td>-4.649081e-15</td>\n",
       "      <td>0.0</td>\n",
       "      <td>1.738769e-14</td>\n",
       "      <td>-4.810374e-16</td>\n",
       "      <td>-1.543867e-14</td>\n",
       "      <td>-4.649081e-15</td>\n",
       "      <td>1.182343e-15</td>\n",
       "    </tr>\n",
       "    <tr>\n",
       "      <th>std</th>\n",
       "      <td>1.000000e+00</td>\n",
       "      <td>1.000000e+00</td>\n",
       "      <td>1.000000e+00</td>\n",
       "      <td>1.000000e+00</td>\n",
       "      <td>1.000000e+00</td>\n",
       "      <td>1.000000e+00</td>\n",
       "      <td>1.000000e+00</td>\n",
       "      <td>1.000000e+00</td>\n",
       "      <td>2.836823</td>\n",
       "      <td>2.83921</td>\n",
       "      <td>...</td>\n",
       "      <td>2.867258</td>\n",
       "      <td>1.000000e+00</td>\n",
       "      <td>1.000000e+00</td>\n",
       "      <td>1.000000e+00</td>\n",
       "      <td>0.0</td>\n",
       "      <td>1.000000e+00</td>\n",
       "      <td>1.000000e+00</td>\n",
       "      <td>1.000000e+00</td>\n",
       "      <td>1.000000e+00</td>\n",
       "      <td>1.000000e+00</td>\n",
       "    </tr>\n",
       "    <tr>\n",
       "      <th>min</th>\n",
       "      <td>-1.736704e+00</td>\n",
       "      <td>-1.721929e+00</td>\n",
       "      <td>-1.963093e+00</td>\n",
       "      <td>-2.717928e+00</td>\n",
       "      <td>-1.723661e+00</td>\n",
       "      <td>-3.296006e-01</td>\n",
       "      <td>-3.342418e-01</td>\n",
       "      <td>-3.488450e-01</td>\n",
       "      <td>0.000000</td>\n",
       "      <td>0.00000</td>\n",
       "      <td>...</td>\n",
       "      <td>0.000000</td>\n",
       "      <td>-2.527020e+00</td>\n",
       "      <td>-2.527020e+00</td>\n",
       "      <td>-2.527020e+00</td>\n",
       "      <td>0.0</td>\n",
       "      <td>-2.527020e+00</td>\n",
       "      <td>-2.527020e+00</td>\n",
       "      <td>-2.527020e+00</td>\n",
       "      <td>-2.527020e+00</td>\n",
       "      <td>-2.527020e+00</td>\n",
       "    </tr>\n",
       "    <tr>\n",
       "      <th>25%</th>\n",
       "      <td>-8.733774e-01</td>\n",
       "      <td>-8.648403e-01</td>\n",
       "      <td>-7.644370e-01</td>\n",
       "      <td>-7.348211e-01</td>\n",
       "      <td>-8.706945e-01</td>\n",
       "      <td>-3.296006e-01</td>\n",
       "      <td>-3.342418e-01</td>\n",
       "      <td>-3.488450e-01</td>\n",
       "      <td>3.000000</td>\n",
       "      <td>3.00000</td>\n",
       "      <td>...</td>\n",
       "      <td>3.000000</td>\n",
       "      <td>-7.481879e-01</td>\n",
       "      <td>-7.481879e-01</td>\n",
       "      <td>-7.481879e-01</td>\n",
       "      <td>0.0</td>\n",
       "      <td>-7.481879e-01</td>\n",
       "      <td>-7.481879e-01</td>\n",
       "      <td>-7.481879e-01</td>\n",
       "      <td>-7.481879e-01</td>\n",
       "      <td>-7.481879e-01</td>\n",
       "    </tr>\n",
       "    <tr>\n",
       "      <th>50%</th>\n",
       "      <td>1.450693e-02</td>\n",
       "      <td>-6.056629e-03</td>\n",
       "      <td>-1.056404e-01</td>\n",
       "      <td>-4.988837e-03</td>\n",
       "      <td>3.276508e-03</td>\n",
       "      <td>-3.296006e-01</td>\n",
       "      <td>-3.342418e-01</td>\n",
       "      <td>-3.488450e-01</td>\n",
       "      <td>5.000000</td>\n",
       "      <td>5.00000</td>\n",
       "      <td>...</td>\n",
       "      <td>5.000000</td>\n",
       "      <td>-6.967191e-02</td>\n",
       "      <td>-6.967191e-02</td>\n",
       "      <td>-6.967191e-02</td>\n",
       "      <td>0.0</td>\n",
       "      <td>-6.967191e-02</td>\n",
       "      <td>-6.967191e-02</td>\n",
       "      <td>-6.967191e-02</td>\n",
       "      <td>-6.967191e-02</td>\n",
       "      <td>-6.967191e-02</td>\n",
       "    </tr>\n",
       "    <tr>\n",
       "      <th>75%</th>\n",
       "      <td>8.567346e-01</td>\n",
       "      <td>8.726734e-01</td>\n",
       "      <td>6.619641e-01</td>\n",
       "      <td>7.459397e-01</td>\n",
       "      <td>8.644255e-01</td>\n",
       "      <td>-3.296006e-01</td>\n",
       "      <td>-3.342418e-01</td>\n",
       "      <td>-3.488450e-01</td>\n",
       "      <td>7.000000</td>\n",
       "      <td>7.00000</td>\n",
       "      <td>...</td>\n",
       "      <td>7.000000</td>\n",
       "      <td>6.982150e-01</td>\n",
       "      <td>6.982150e-01</td>\n",
       "      <td>6.982150e-01</td>\n",
       "      <td>0.0</td>\n",
       "      <td>6.982150e-01</td>\n",
       "      <td>6.982150e-01</td>\n",
       "      <td>6.982150e-01</td>\n",
       "      <td>6.982150e-01</td>\n",
       "      <td>6.982150e-01</td>\n",
       "    </tr>\n",
       "    <tr>\n",
       "      <th>max</th>\n",
       "      <td>1.721445e+00</td>\n",
       "      <td>1.747689e+00</td>\n",
       "      <td>2.999132e+00</td>\n",
       "      <td>2.696972e+00</td>\n",
       "      <td>1.736572e+00</td>\n",
       "      <td>3.033671e+00</td>\n",
       "      <td>2.991547e+00</td>\n",
       "      <td>2.866316e+00</td>\n",
       "      <td>9.000000</td>\n",
       "      <td>9.00000</td>\n",
       "      <td>...</td>\n",
       "      <td>9.000000</td>\n",
       "      <td>3.358114e+00</td>\n",
       "      <td>3.358114e+00</td>\n",
       "      <td>3.358114e+00</td>\n",
       "      <td>0.0</td>\n",
       "      <td>3.358114e+00</td>\n",
       "      <td>3.358114e+00</td>\n",
       "      <td>3.358114e+00</td>\n",
       "      <td>3.358114e+00</td>\n",
       "      <td>3.358114e+00</td>\n",
       "    </tr>\n",
       "  </tbody>\n",
       "</table>\n",
       "<p>8 rows × 23 columns</p>\n",
       "</div>"
      ],
      "text/plain": [
       "             weight        height           BMI           BMR           PAL  \\\n",
       "count  1.000000e+04  1.000000e+04  1.000000e+04  1.000000e+04  1.000000e+04   \n",
       "mean   1.730101e-14  2.250218e-14  1.568310e-14 -1.058424e-14 -3.748291e-15   \n",
       "std    1.000000e+00  1.000000e+00  1.000000e+00  1.000000e+00  1.000000e+00   \n",
       "min   -1.736704e+00 -1.721929e+00 -1.963093e+00 -2.717928e+00 -1.723661e+00   \n",
       "25%   -8.733774e-01 -8.648403e-01 -7.644370e-01 -7.348211e-01 -8.706945e-01   \n",
       "50%    1.450693e-02 -6.056629e-03 -1.056404e-01 -4.988837e-03  3.276508e-03   \n",
       "75%    8.567346e-01  8.726734e-01  6.619641e-01  7.459397e-01  8.644255e-01   \n",
       "max    1.721445e+00  1.747689e+00  2.999132e+00  2.696972e+00  1.736572e+00   \n",
       "\n",
       "            has_CVD       has_T2D  has_iron_def        meal_1       meal_2  \\\n",
       "count  1.000000e+04  1.000000e+04  1.000000e+04  10000.000000  10000.00000   \n",
       "mean  -2.842171e-17 -3.197442e-17  4.654055e-17      4.964800      4.94530   \n",
       "std    1.000000e+00  1.000000e+00  1.000000e+00      2.836823      2.83921   \n",
       "min   -3.296006e-01 -3.342418e-01 -3.488450e-01      0.000000      0.00000   \n",
       "25%   -3.296006e-01 -3.342418e-01 -3.488450e-01      3.000000      3.00000   \n",
       "50%   -3.296006e-01 -3.342418e-01 -3.488450e-01      5.000000      5.00000   \n",
       "75%   -3.296006e-01 -3.342418e-01 -3.488450e-01      7.000000      7.00000   \n",
       "max    3.033671e+00  2.991547e+00  2.866316e+00      9.000000      9.00000   \n",
       "\n",
       "       ...        meal_6      min_prot      min_carb       min_fat  min_sfa  \\\n",
       "count  ...  10000.000000  1.000000e+04  1.000000e+04  1.000000e+04  10000.0   \n",
       "mean   ...      4.972500 -4.567369e-15 -2.813749e-16 -4.649081e-15      0.0   \n",
       "std    ...      2.867258  1.000000e+00  1.000000e+00  1.000000e+00      0.0   \n",
       "min    ...      0.000000 -2.527020e+00 -2.527020e+00 -2.527020e+00      0.0   \n",
       "25%    ...      3.000000 -7.481879e-01 -7.481879e-01 -7.481879e-01      0.0   \n",
       "50%    ...      5.000000 -6.967191e-02 -6.967191e-02 -6.967191e-02      0.0   \n",
       "75%    ...      7.000000  6.982150e-01  6.982150e-01  6.982150e-01      0.0   \n",
       "max    ...      9.000000  3.358114e+00  3.358114e+00  3.358114e+00      0.0   \n",
       "\n",
       "           max_prot      max_carb       max_fat       max_sfa     target_EI  \n",
       "count  1.000000e+04  1.000000e+04  1.000000e+04  1.000000e+04  1.000000e+04  \n",
       "mean   1.738769e-14 -4.810374e-16 -1.543867e-14 -4.649081e-15  1.182343e-15  \n",
       "std    1.000000e+00  1.000000e+00  1.000000e+00  1.000000e+00  1.000000e+00  \n",
       "min   -2.527020e+00 -2.527020e+00 -2.527020e+00 -2.527020e+00 -2.527020e+00  \n",
       "25%   -7.481879e-01 -7.481879e-01 -7.481879e-01 -7.481879e-01 -7.481879e-01  \n",
       "50%   -6.967191e-02 -6.967191e-02 -6.967191e-02 -6.967191e-02 -6.967191e-02  \n",
       "75%    6.982150e-01  6.982150e-01  6.982150e-01  6.982150e-01  6.982150e-01  \n",
       "max    3.358114e+00  3.358114e+00  3.358114e+00  3.358114e+00  3.358114e+00  \n",
       "\n",
       "[8 rows x 23 columns]"
      ]
     },
     "execution_count": 26,
     "metadata": {},
     "output_type": "execute_result"
    }
   ],
   "source": [
    "df_full.describe()"
   ]
  },
  {
   "cell_type": "markdown",
   "metadata": {},
   "source": [
    "# Save Data"
   ]
  },
  {
   "cell_type": "code",
   "execution_count": null,
   "metadata": {},
   "outputs": [],
   "source": [
    "# df_full.to_csv(\"../../../../ressources/datasets/synthetic_nutrition_data.csv\", index=False)"
   ]
  }
 ],
 "metadata": {
  "kernelspec": {
   "display_name": "env",
   "language": "python",
   "name": "python3"
  },
  "language_info": {
   "codemirror_mode": {
    "name": "ipython",
    "version": 3
   },
   "file_extension": ".py",
   "mimetype": "text/x-python",
   "name": "python",
   "nbconvert_exporter": "python",
   "pygments_lexer": "ipython3",
   "version": "3.13.2"
  }
 },
 "nbformat": 4,
 "nbformat_minor": 2
}
